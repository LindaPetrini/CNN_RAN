{
 "cells": [
  {
   "cell_type": "code",
   "execution_count": 2,
   "metadata": {},
   "outputs": [],
   "source": [
    "import os\n",
    "import gensim, logging\n",
    "\n",
    "logging.basicConfig(format='%(asctime)s : %(levelname)s : %(message)s', level=logging.INFO)\n",
    "    "
   ]
  },
  {
   "cell_type": "code",
   "execution_count": 14,
   "metadata": {
    "collapsed": true
   },
   "outputs": [],
   "source": [
    "class MySentences(object):\n",
    "    def __init__(self, fname):\n",
    "        self.fname = fname\n",
    "\n",
    "    def __iter__(self):\n",
    "        for line in open(self.fname):\n",
    "                yield line.split()[2:]"
   ]
  },
  {
   "cell_type": "code",
   "execution_count": 17,
   "metadata": {},
   "outputs": [
    {
     "name": "stderr",
     "output_type": "stream",
     "text": [
      "2017-11-21 13:19:46,662 : WARNING : Slow version of gensim.models.word2vec is being used\n",
      "2017-11-21 13:19:46,670 : INFO : collecting all words and their counts\n",
      "2017-11-21 13:19:46,675 : INFO : PROGRESS: at sentence #0, processed 0 words, keeping 0 word types\n",
      "2017-11-21 13:19:46,818 : INFO : collected 25721 word types from a corpus of 116639 raw words and 6000 sentences\n",
      "2017-11-21 13:19:46,822 : INFO : Loading a fresh vocabulary\n",
      "2017-11-21 13:19:48,326 : INFO : min_count=0 retains 25721 unique words (100% of original 25721, drops 0)\n",
      "2017-11-21 13:19:48,327 : INFO : min_count=0 leaves 116639 word corpus (100% of original 116639, drops 0)\n",
      "2017-11-21 13:19:48,486 : INFO : deleting the raw counts dictionary of 25721 items\n",
      "2017-11-21 13:19:48,487 : INFO : sample=0.001 downsamples 37 most-common words\n",
      "2017-11-21 13:19:48,488 : INFO : downsampling leaves estimated 98982 word corpus (84.9% of prior 116639)\n",
      "2017-11-21 13:19:48,491 : INFO : estimated required memory for 25721 words and 100 dimensions: 33437300 bytes\n",
      "2017-11-21 13:19:48,702 : INFO : resetting layer weights\n",
      "/anaconda/lib/python3.6/site-packages/gensim-3.1.0-py3.6-macosx-10.7-x86_64.egg/gensim/models/word2vec.py:906: UserWarning: C extension not loaded for Word2Vec, training will be slow. Install a C compiler and reinstall gensim for fast training.\n",
      "2017-11-21 13:19:49,342 : INFO : training model with 3 workers on 25721 vocabulary and 100 features, using sg=0 hs=0 sample=0.001 negative=5 window=5\n",
      "2017-11-21 13:20:02,636 : INFO : PROGRESS: at 1.74% examples, 640 words/s, in_qsize 5, out_qsize 0\n",
      "2017-11-21 13:20:03,843 : INFO : PROGRESS: at 5.13% examples, 1761 words/s, in_qsize 5, out_qsize 0\n",
      "2017-11-21 13:20:16,124 : INFO : PROGRESS: at 6.90% examples, 1268 words/s, in_qsize 6, out_qsize 0\n",
      "2017-11-21 13:20:30,847 : INFO : PROGRESS: at 12.07% examples, 1433 words/s, in_qsize 6, out_qsize 0\n",
      "2017-11-21 13:20:32,025 : INFO : PROGRESS: at 13.83% examples, 1593 words/s, in_qsize 5, out_qsize 0\n",
      "2017-11-21 13:20:44,982 : INFO : PROGRESS: at 17.19% examples, 1526 words/s, in_qsize 5, out_qsize 0\n",
      "2017-11-21 13:20:47,416 : INFO : PROGRESS: at 18.84% examples, 1609 words/s, in_qsize 6, out_qsize 0\n",
      "2017-11-21 13:21:02,840 : INFO : PROGRESS: at 22.25% examples, 1502 words/s, in_qsize 5, out_qsize 0\n",
      "2017-11-21 13:21:05,177 : INFO : PROGRESS: at 25.69% examples, 1680 words/s, in_qsize 6, out_qsize 0\n",
      "2017-11-21 13:21:16,000 : INFO : PROGRESS: at 27.45% examples, 1569 words/s, in_qsize 6, out_qsize 0\n",
      "2017-11-21 13:21:18,279 : INFO : PROGRESS: at 29.15% examples, 1624 words/s, in_qsize 6, out_qsize 0\n",
      "2017-11-21 13:21:30,291 : INFO : PROGRESS: at 32.63% examples, 1597 words/s, in_qsize 5, out_qsize 0\n",
      "2017-11-21 13:21:33,182 : INFO : PROGRESS: at 34.26% examples, 1634 words/s, in_qsize 5, out_qsize 0\n",
      "2017-11-21 13:21:46,050 : INFO : PROGRESS: at 37.73% examples, 1600 words/s, in_qsize 5, out_qsize 0\n",
      "2017-11-21 13:21:47,511 : INFO : PROGRESS: at 39.44% examples, 1651 words/s, in_qsize 5, out_qsize 0\n",
      "2017-11-21 13:21:49,508 : INFO : PROGRESS: at 41.11% examples, 1694 words/s, in_qsize 6, out_qsize 0\n",
      "2017-11-21 13:21:58,524 : INFO : PROGRESS: at 42.81% examples, 1642 words/s, in_qsize 5, out_qsize 0\n",
      "2017-11-21 13:22:03,214 : INFO : PROGRESS: at 46.28% examples, 1712 words/s, in_qsize 6, out_qsize 0\n",
      "2017-11-21 13:22:11,751 : INFO : PROGRESS: at 48.05% examples, 1668 words/s, in_qsize 6, out_qsize 0\n",
      "2017-11-21 13:22:13,820 : INFO : PROGRESS: at 49.80% examples, 1703 words/s, in_qsize 5, out_qsize 0\n",
      "2017-11-21 13:22:16,371 : INFO : PROGRESS: at 51.50% examples, 1731 words/s, in_qsize 6, out_qsize 0\n",
      "2017-11-21 13:22:25,662 : INFO : PROGRESS: at 53.23% examples, 1682 words/s, in_qsize 5, out_qsize 0\n",
      "2017-11-21 13:22:27,223 : INFO : PROGRESS: at 54.90% examples, 1719 words/s, in_qsize 5, out_qsize 0\n",
      "2017-11-21 13:22:30,885 : INFO : PROGRESS: at 56.59% examples, 1733 words/s, in_qsize 6, out_qsize 0\n",
      "2017-11-21 13:22:40,193 : INFO : PROGRESS: at 58.26% examples, 1688 words/s, in_qsize 6, out_qsize 0\n",
      "2017-11-21 13:22:43,027 : INFO : PROGRESS: at 61.66% examples, 1759 words/s, in_qsize 5, out_qsize 0\n",
      "2017-11-21 13:22:55,743 : INFO : PROGRESS: at 63.36% examples, 1684 words/s, in_qsize 6, out_qsize 0\n",
      "2017-11-21 13:22:58,202 : INFO : PROGRESS: at 66.83% examples, 1753 words/s, in_qsize 5, out_qsize 0\n",
      "2017-11-21 13:23:06,336 : INFO : PROGRESS: at 68.60% examples, 1723 words/s, in_qsize 6, out_qsize 0\n",
      "2017-11-21 13:23:08,412 : INFO : PROGRESS: at 70.33% examples, 1747 words/s, in_qsize 5, out_qsize 0\n",
      "2017-11-21 13:23:10,002 : INFO : PROGRESS: at 72.04% examples, 1776 words/s, in_qsize 6, out_qsize 0\n",
      "2017-11-21 13:23:18,281 : INFO : PROGRESS: at 73.79% examples, 1746 words/s, in_qsize 6, out_qsize 0\n",
      "2017-11-21 13:23:20,094 : INFO : PROGRESS: at 77.15% examples, 1811 words/s, in_qsize 5, out_qsize 0\n",
      "2017-11-21 13:23:30,974 : INFO : PROGRESS: at 78.80% examples, 1761 words/s, in_qsize 5, out_qsize 0\n",
      "2017-11-21 13:23:32,277 : INFO : PROGRESS: at 80.51% examples, 1789 words/s, in_qsize 6, out_qsize 0\n",
      "2017-11-21 13:23:33,577 : INFO : PROGRESS: at 82.21% examples, 1816 words/s, in_qsize 6, out_qsize 0\n",
      "2017-11-21 13:23:43,966 : INFO : PROGRESS: at 83.89% examples, 1772 words/s, in_qsize 5, out_qsize 0\n",
      "2017-11-21 13:23:45,592 : INFO : PROGRESS: at 85.65% examples, 1796 words/s, in_qsize 6, out_qsize 0\n",
      "2017-11-21 13:23:46,709 : INFO : PROGRESS: at 87.40% examples, 1823 words/s, in_qsize 5, out_qsize 0\n",
      "2017-11-21 13:23:58,445 : INFO : PROGRESS: at 89.19% examples, 1771 words/s, in_qsize 6, out_qsize 0\n",
      "2017-11-21 13:24:01,285 : INFO : PROGRESS: at 92.59% examples, 1819 words/s, in_qsize 5, out_qsize 0\n",
      "2017-11-21 13:24:14,031 : INFO : PROGRESS: at 94.34% examples, 1763 words/s, in_qsize 4, out_qsize 0\n",
      "2017-11-21 13:24:16,797 : INFO : PROGRESS: at 97.69% examples, 1808 words/s, in_qsize 2, out_qsize 1\n",
      "2017-11-21 13:24:16,819 : INFO : worker thread finished; awaiting finish of 2 more threads\n",
      "2017-11-21 13:24:18,506 : INFO : PROGRESS: at 98.33% examples, 1808 words/s, in_qsize 1, out_qsize 1\n",
      "2017-11-21 13:24:18,514 : INFO : worker thread finished; awaiting finish of 1 more threads\n",
      "2017-11-21 13:24:20,381 : INFO : PROGRESS: at 100.00% examples, 1827 words/s, in_qsize 0, out_qsize 1\n",
      "2017-11-21 13:24:20,383 : INFO : worker thread finished; awaiting finish of 0 more threads\n",
      "2017-11-21 13:24:20,385 : INFO : training on 583195 raw words (495180 effective words) took 271.0s, 1827 effective words/s\n"
     ]
    }
   ],
   "source": [
    "sentences = MySentences('.././2017_English_final/GOLD/Subtask_A/twitter-2016train-A.txt') \n",
    "model = gensim.models.Word2Vec(sentences, min_count=0)"
   ]
  },
  {
   "cell_type": "code",
   "execution_count": 22,
   "metadata": {},
   "outputs": [
    {
     "name": "stderr",
     "output_type": "stream",
     "text": [
      "2017-11-21 13:28:39,700 : INFO : saving Word2Vec object under ./mymodel, separately None\n",
      "2017-11-21 13:28:39,702 : INFO : not storing attribute syn0norm\n",
      "2017-11-21 13:28:39,704 : INFO : not storing attribute cum_table\n",
      "2017-11-21 13:28:40,285 : INFO : saved ./mymodel\n"
     ]
    }
   ],
   "source": [
    "model.save('./mymodel')"
   ]
  },
  {
   "cell_type": "code",
   "execution_count": null,
   "metadata": {
    "collapsed": true
   },
   "outputs": [],
   "source": []
  },
  {
   "cell_type": "code",
   "execution_count": null,
   "metadata": {
    "collapsed": true
   },
   "outputs": [],
   "source": []
  },
  {
   "cell_type": "code",
   "execution_count": null,
   "metadata": {
    "collapsed": true
   },
   "outputs": [],
   "source": []
  },
  {
   "cell_type": "code",
   "execution_count": null,
   "metadata": {
    "collapsed": true
   },
   "outputs": [],
   "source": []
  },
  {
   "cell_type": "code",
   "execution_count": null,
   "metadata": {
    "collapsed": true
   },
   "outputs": [],
   "source": []
  }
 ],
 "metadata": {
  "kernelspec": {
   "display_name": "Python 3",
   "language": "python",
   "name": "python3"
  },
  "language_info": {
   "codemirror_mode": {
    "name": "ipython",
    "version": 3
   },
   "file_extension": ".py",
   "mimetype": "text/x-python",
   "name": "python",
   "nbconvert_exporter": "python",
   "pygments_lexer": "ipython3",
   "version": "3.6.1"
  }
 },
 "nbformat": 4,
 "nbformat_minor": 2
}
