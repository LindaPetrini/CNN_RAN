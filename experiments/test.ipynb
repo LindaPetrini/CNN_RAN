{
 "cells": [
  {
   "cell_type": "code",
   "execution_count": 2,
   "metadata": {},
   "outputs": [],
   "source": [
    "import os\n",
    "import torchwordemb"
   ]
  },
  {
   "cell_type": "code",
   "execution_count": null,
   "metadata": {},
   "outputs": [],
   "source": [
    "import torch \n",
    "import torch.nn as nn\n",
    "import torchvision.datasets as dsets\n",
    "import torchvision.transforms as transforms\n",
    "from torch.autograd import Variable"
   ]
  },
  {
   "cell_type": "code",
   "execution_count": 3,
   "metadata": {},
   "outputs": [
    {
     "name": "stdout",
     "output_type": "stream",
     "text": [
      "[['microsoft', 'how', 'about', 'you', 'make', 'a', 'system', 'that', \"doesn't\", 'eat', 'my', 'friggin', 'discs', 'this', 'is', 'the', '2nd', 'time', 'this', 'has', 'happened', 'and', 'i', 'am', 'so', 'sick', 'of', 'it!'], ['i', 'may', 'be', 'ignorant', 'on', 'this', 'issue', 'but', 'should', 'we', 'celebrate', \"microsoft's\", 'parental', 'leave', 'changes?', \"doesn't\", 'the', 'gender', 'divide', 'suggest', '(1/2)'], ['thanks', 'to', 'microsoft', 'i', 'just', 'may', 'be', 'switching', 'over', 'to', 'apple'], ['if', 'i', 'make', 'a', 'game', 'as', 'a', 'windows10', 'universal', 'app', 'will', 'xboxone', 'owners', 'be', 'able', 'to', 'download', 'and', 'play', 'it', 'in', 'november?', 'majornelson', 'microsoft'], ['microsoft', 'i', 'may', 'not', 'prefer', 'your', 'gaming', 'branch', 'of', 'business', 'but', 'you', 'do', 'make', 'a', 'damn', 'fine', 'operating', 'system', 'windows10', 'microsoft'], ['mikewolf1980', 'microsoft', 'i', 'will', 'be', 'downgrading', 'and', 'let', 'windows10', 'be', 'out', 'for', 'almost', 'the', '1st', 'yr', 'b4', 'trying', 'it', 'again', 'windows10fail'], ['microsoft', '2nd', 'computer', 'with', 'same', 'error!!!', 'windows10fail', 'guess', 'we', 'will', 'shelve', 'this', 'until', 'sp1!'], ['just', 'ordered', 'my', '1st', 'ever', 'tablet', 'microsoft', 'surface', 'pro', '3', 'i7/8gb', '512gb', 'ssd', 'hopefully', 'it', 'works', 'out', 'for', 'dev', 'to', 'replace', 'my', 'laptop', '=)'], ['after', 'attempting', 'a', 'reinstall', 'it', 'still', 'bricks', 'says', 'windows', 'cannot', 'finish', 'installing', 'or', 'somesuch', 'microsoft', 'may', 'have', 'cost', 'me', '$600'], ['sunday', 'morning', 'quiet', 'day', 'so', 'time', 'to', 'welcome', 'in', 'windows10', 'microsoft', 'windows']]\n"
     ]
    }
   ],
   "source": [
    "train_data = []\n",
    "train_targets = []\n",
    "\n",
    "fname = './experiments/2017_English_final/GOLD/Subtask_A/twitter-2016train-A.txt'\n",
    "something = True\n",
    "for line in open(fname):\n",
    "    if something:\n",
    "        something = False\n",
    "    else:\n",
    "        splitted_line = line.split()\n",
    "        train_targets.append(splitted_line[1])\n",
    "        train_data.append(splitted_line[2:])\n",
    "\n",
    "punct = [\".\", \",\", \";\", \":\", '\"', \"@\", \"#\"]  \n",
    "for ind, sentence in enumerate(train_data):    \n",
    "    #sentence.remove(punct)\n",
    "    \n",
    "    a = [\"\".join([letter if letter not in punct else \"\" for letter in word.lower()]) \n",
    "         if \"http\" not in word else None for word in sentence]\n",
    "    if None in a:\n",
    "        a.remove(None)\n",
    "    train_data[ind] = a\n",
    "   \n",
    "print(train_data[:10])\n",
    "        \n",
    "\n"
   ]
  },
  {
   "cell_type": "code",
   "execution_count": 4,
   "metadata": {},
   "outputs": [],
   "source": [
    "import os\n",
    "path = os.getcwd()\n",
    "\n",
    "\n",
    "vocab, vec = torchwordemb.load_word2vec_bin(path+\"/experiments/GoogleNews-vectors-negative300.bin\")\n"
   ]
  },
  {
   "cell_type": "code",
   "execution_count": 4,
   "metadata": {
    "collapsed": true
   },
   "outputs": [
    {
     "ename": "NameError",
     "evalue": "name 'vec' is not defined",
     "traceback": [
      "\u001b[0;31m---------------------------------------------------------------------------\u001b[0m",
      "\u001b[0;31mNameError\u001b[0m                                 Traceback (most recent call last)",
      "\u001b[0;32m<ipython-input-4-be0bc47161a0>\u001b[0m in \u001b[0;36m<module>\u001b[0;34m()\u001b[0m\n\u001b[0;32m----> 1\u001b[0;31m \u001b[0mprint\u001b[0m\u001b[0;34m(\u001b[0m\u001b[0mvec\u001b[0m\u001b[0;34m[\u001b[0m\u001b[0mvocab\u001b[0m\u001b[0;34m[\u001b[0m\u001b[0;34m\"!\"\u001b[0m\u001b[0;34m]\u001b[0m\u001b[0;34m]\u001b[0m\u001b[0;34m)\u001b[0m\u001b[0;34m\u001b[0m\u001b[0m\n\u001b[0m",
      "\u001b[0;31mNameError\u001b[0m: name 'vec' is not defined"
     ],
     "output_type": "error"
    }
   ],
   "source": [
    "print(vec[vocab[\"!\"]])"
   ]
  },
  {
   "cell_type": "code",
   "execution_count": null,
   "metadata": {},
   "outputs": [],
   "source": [
    "class CNN(nn.Module):\n",
    "    def __init__(self):\n",
    "        super(CNN, self).__init__()\n",
    "        self.layer1 = nn.Sequential(\n",
    "            nn.Conv2d(1, 16, kernel_size=3, padding=1),\n",
    "            nn.BatchNorm2d(16),\n",
    "            nn.ReLU(),\n",
    "            nn.MaxPool2d(2))\n",
    "       \n",
    "        #self.fc = nn.Linear(7*7*32, 10)\n",
    "        \n",
    "    def forward(self, x):\n",
    "        out = self.layer1(x)\n",
    "        out = out.view(out.size(0), -1)\n",
    "        return out"
   ]
  }
 ],
 "metadata": {
  "kernelspec": {
   "display_name": "Python 3",
   "language": "python",
   "name": "python3"
  },
  "language_info": {
   "codemirror_mode": {
    "name": "ipython",
    "version": 3
   },
   "file_extension": ".py",
   "mimetype": "text/x-python",
   "name": "python",
   "nbconvert_exporter": "python",
   "pygments_lexer": "ipython3",
   "version": "3.6.1"
  }
 },
 "nbformat": 4,
 "nbformat_minor": 2
}
